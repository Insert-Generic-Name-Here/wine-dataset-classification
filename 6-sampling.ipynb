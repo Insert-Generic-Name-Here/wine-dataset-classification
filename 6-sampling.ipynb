{
 "cells": [
  {
   "cell_type": "code",
   "execution_count": 4,
   "metadata": {},
   "outputs": [],
   "source": [
    "import pandas as pd"
   ]
  },
  {
   "cell_type": "code",
   "execution_count": 5,
   "metadata": {},
   "outputs": [],
   "source": [
    "rcn = pd.read_csv('./csv_cache/red_clean_norm.csv', delimiter='\\t', index_col=0)\n",
    "rc = pd.read_csv('./csv_cache/red_clean.csv', delimiter='\\t', index_col=0)\n",
    "wcn = pd.read_csv('./csv_cache/white_clean_norm.csv', delimiter='\\t', index_col=0)\n",
    "wc = pd.read_csv('./csv_cache/white_clean.csv', delimiter='\\t', index_col=0)"
   ]
  },
  {
   "cell_type": "code",
   "execution_count": 12,
   "metadata": {},
   "outputs": [
    {
     "name": "stdout",
     "output_type": "stream",
     "text": [
      "Directory ./sample_data Exists. Saving...\n"
     ]
    }
   ],
   "source": [
    "import os\n",
    "cache_dir = os.path.join('.', 'sample_data')\n",
    "try:\n",
    "    \n",
    "    os.mkdir(cache_dir+'/25')\n",
    "    os.mkdir(cache_dir+'/50')\n",
    "    os.mkdir(cache_dir+'/75')\n",
    "    os.mkdir(cache_dir)\n",
    "    print ('Creating Directory {0}'.format(cache_dir))\n",
    "except FileExistsError:\n",
    "    print ('Directory {0} Exists. Saving...'.format(cache_dir))\n",
    "    \n",
    "## 25% ##\n",
    "\n",
    "# Red wine\n",
    "rcn.sample(frac=0.25).to_csv(os.path.join(cache_dir, '25', 'red_clean_norm.csv'), sep='\\t')\n",
    "rc.sample(frac=0.25).to_csv(os.path.join(cache_dir, '25', 'red_clean.csv'), sep='\\t')\n",
    "# White wine\n",
    "wcn.sample(frac=0.25).to_csv(os.path.join(cache_dir, '25', 'white_clean_norm.csv'), sep='\\t')\n",
    "wc.sample(frac=0.25).to_csv(os.path.join(cache_dir, '25', 'white_clean.csv'), sep='\\t')\n",
    "\n",
    "## 50% ##\n",
    "\n",
    "# Red wine\n",
    "rcn.sample(frac=0.50).to_csv(os.path.join(cache_dir, '50', 'red_clean_norm.csv'), sep='\\t')\n",
    "rc.sample(frac=0.50).to_csv(os.path.join(cache_dir, '50', 'red_clean.csv'), sep='\\t')\n",
    "# White wine\n",
    "wcn.sample(frac=0.50).to_csv(os.path.join(cache_dir, '50', 'white_clean_norm.csv'), sep='\\t')\n",
    "wc.sample(frac=0.50).to_csv(os.path.join(cache_dir, '50', 'white_clean.csv'), sep='\\t')\n",
    "\n",
    "## 75% ##\n",
    "\n",
    "# Red wine\n",
    "rcn.sample(frac=0.75).to_csv(os.path.join(cache_dir, '75', 'red_clean_norm.csv'), sep='\\t')\n",
    "rc.sample(frac=0.75).to_csv(os.path.join(cache_dir, '75', 'red_clean.csv'), sep='\\t')\n",
    "# White wine\n",
    "wcn.sample(frac=0.75).to_csv(os.path.join(cache_dir, '75', 'white_clean_norm.csv'), sep='\\t')\n",
    "wc.sample(frac=0.75).to_csv(os.path.join(cache_dir, '75', 'white_clean.csv'), sep='\\t')"
   ]
  },
  {
   "cell_type": "code",
   "execution_count": 17,
   "metadata": {},
   "outputs": [
    {
     "data": {
      "text/plain": [
       "(4011, 12)"
      ]
     },
     "execution_count": 17,
     "metadata": {},
     "output_type": "execute_result"
    }
   ],
   "source": [
    "wc.shape"
   ]
  },
  {
   "cell_type": "code",
   "execution_count": null,
   "metadata": {},
   "outputs": [],
   "source": []
  }
 ],
 "metadata": {
  "kernelspec": {
   "display_name": "Python 3",
   "language": "python",
   "name": "python3"
  },
  "language_info": {
   "codemirror_mode": {
    "name": "ipython",
    "version": 3
   },
   "file_extension": ".py",
   "mimetype": "text/x-python",
   "name": "python",
   "nbconvert_exporter": "python",
   "pygments_lexer": "ipython3",
   "version": "3.6.4"
  }
 },
 "nbformat": 4,
 "nbformat_minor": 2
}
