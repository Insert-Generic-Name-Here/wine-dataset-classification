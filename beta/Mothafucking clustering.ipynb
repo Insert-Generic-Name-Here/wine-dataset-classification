{
 "cells": [
  {
   "cell_type": "code",
   "execution_count": 1,
   "metadata": {
    "collapsed": true
   },
   "outputs": [],
   "source": [
    "import pandas as pd"
   ]
  },
  {
   "cell_type": "code",
   "execution_count": 175,
   "metadata": {
    "collapsed": true
   },
   "outputs": [],
   "source": [
    "def External_indices_validation(predicted, labels, n_clusters, info_for_clusters=False):\n",
    "    '''Clustering validation for unsupervised learning using external indices.\n",
    "    Input:\n",
    "        info_for_clustering: \n",
    "            True: Prints percentages of clusters containing each label\n",
    "            False: Prints percentages of labels in each cluster\n",
    "        \n",
    "    Output:\n",
    "       '''\n",
    "    \n",
    "    #####\n",
    "    if not info_for_clusters:\n",
    "        lst = []\n",
    "        tmp = []\n",
    "        for rating in sorted(labels.unique()):\n",
    "            for ind, val in enumerate(labels):\n",
    "                if val == rating:\n",
    "                    tmp.append(predicted[ind])\n",
    "\n",
    "            lst.append((rating, tmp))\n",
    "            tmp = []\n",
    "\n",
    "\n",
    "        #print statistics for each cluster\n",
    "        for ind, sublist in lst:\n",
    "            c = Counter(sublist)\n",
    "            tmp = [(i, c[i] / len(sublist) * 100.0) for i, count in c.most_common()]\n",
    "            print (f'Info for rating={ind} \\n')\n",
    "            for el in tmp:\n",
    "                print(f'{el[1]:.2f} % in cluster {el[0]}')\n",
    "            print ('\\n')\n",
    "    else:\n",
    "        # create a list that on index i includes all the values of the labels under cluster #i\n",
    "        lst = [[] for _ in range(n_clusters)]\n",
    "        for ind, val in enumerate(predicted):\n",
    "            lst[val].append(labels.values[ind])\n",
    "\n",
    "        #print statistics for each cluster\n",
    "        for ind,sublist in enumerate(lst):\n",
    "            c = Counter(sublist)\n",
    "            tmp = [(i, c[i] / len(sublist) * 100.0) for i, count in c.most_common()]\n",
    "            print (f'Info for cluster #{ind} \\n')\n",
    "            for el in tmp:\n",
    "                print(f'{el[1]:.2f} % of rating {el[0]}')\n",
    "            print ('\\n')"
   ]
  },
  {
   "cell_type": "code",
   "execution_count": 12,
   "metadata": {},
   "outputs": [],
   "source": [
    "red = pd.read_csv('./csv_cache/red_clean.csv', delimiter='\\t',index_col=0)"
   ]
  },
  {
   "cell_type": "code",
   "execution_count": 14,
   "metadata": {},
   "outputs": [
    {
     "data": {
      "text/html": [
       "<div>\n",
       "<style>\n",
       "    .dataframe thead tr:only-child th {\n",
       "        text-align: right;\n",
       "    }\n",
       "\n",
       "    .dataframe thead th {\n",
       "        text-align: left;\n",
       "    }\n",
       "\n",
       "    .dataframe tbody tr th {\n",
       "        vertical-align: top;\n",
       "    }\n",
       "</style>\n",
       "<table border=\"1\" class=\"dataframe\">\n",
       "  <thead>\n",
       "    <tr style=\"text-align: right;\">\n",
       "      <th></th>\n",
       "      <th>fixed_acidity</th>\n",
       "      <th>volatile_acidity</th>\n",
       "      <th>citric_acid</th>\n",
       "      <th>residual_sugar</th>\n",
       "      <th>chlorides</th>\n",
       "      <th>free_sulfur_dioxide</th>\n",
       "      <th>total_sulfur_dioxide</th>\n",
       "      <th>density</th>\n",
       "      <th>ph</th>\n",
       "      <th>sulphates</th>\n",
       "      <th>alcohol</th>\n",
       "      <th>quality</th>\n",
       "    </tr>\n",
       "  </thead>\n",
       "  <tbody>\n",
       "    <tr>\n",
       "      <th>0</th>\n",
       "      <td>7.4</td>\n",
       "      <td>0.70</td>\n",
       "      <td>0.00</td>\n",
       "      <td>1.9</td>\n",
       "      <td>0.076</td>\n",
       "      <td>11.0</td>\n",
       "      <td>34.0</td>\n",
       "      <td>0.9978</td>\n",
       "      <td>3.51</td>\n",
       "      <td>0.56</td>\n",
       "      <td>9.4</td>\n",
       "      <td>5</td>\n",
       "    </tr>\n",
       "    <tr>\n",
       "      <th>1</th>\n",
       "      <td>7.8</td>\n",
       "      <td>0.88</td>\n",
       "      <td>0.00</td>\n",
       "      <td>2.6</td>\n",
       "      <td>0.098</td>\n",
       "      <td>25.0</td>\n",
       "      <td>67.0</td>\n",
       "      <td>0.9968</td>\n",
       "      <td>3.20</td>\n",
       "      <td>0.68</td>\n",
       "      <td>9.8</td>\n",
       "      <td>5</td>\n",
       "    </tr>\n",
       "    <tr>\n",
       "      <th>2</th>\n",
       "      <td>7.8</td>\n",
       "      <td>0.76</td>\n",
       "      <td>0.04</td>\n",
       "      <td>2.3</td>\n",
       "      <td>0.092</td>\n",
       "      <td>15.0</td>\n",
       "      <td>54.0</td>\n",
       "      <td>0.9970</td>\n",
       "      <td>3.26</td>\n",
       "      <td>0.65</td>\n",
       "      <td>9.8</td>\n",
       "      <td>5</td>\n",
       "    </tr>\n",
       "  </tbody>\n",
       "</table>\n",
       "</div>"
      ],
      "text/plain": [
       "   fixed_acidity  volatile_acidity  citric_acid  residual_sugar  chlorides  \\\n",
       "0            7.4              0.70         0.00             1.9      0.076   \n",
       "1            7.8              0.88         0.00             2.6      0.098   \n",
       "2            7.8              0.76         0.04             2.3      0.092   \n",
       "\n",
       "   free_sulfur_dioxide  total_sulfur_dioxide  density    ph  sulphates  \\\n",
       "0                 11.0                  34.0   0.9978  3.51       0.56   \n",
       "1                 25.0                  67.0   0.9968  3.20       0.68   \n",
       "2                 15.0                  54.0   0.9970  3.26       0.65   \n",
       "\n",
       "   alcohol  quality  \n",
       "0      9.4        5  \n",
       "1      9.8        5  \n",
       "2      9.8        5  "
      ]
     },
     "execution_count": 14,
     "metadata": {},
     "output_type": "execute_result"
    }
   ],
   "source": [
    "red.head(3)"
   ]
  },
  {
   "cell_type": "code",
   "execution_count": 16,
   "metadata": {
    "collapsed": true
   },
   "outputs": [],
   "source": [
    "red_X = red.drop(labels='quality', axis=1)\n",
    "red_y = red['quality']"
   ]
  },
  {
   "cell_type": "code",
   "execution_count": 18,
   "metadata": {
    "scrolled": true
   },
   "outputs": [
    {
     "data": {
      "text/plain": [
       "0    5\n",
       "1    5\n",
       "2    5\n",
       "3    6\n",
       "4    5\n",
       "Name: quality, dtype: int64"
      ]
     },
     "execution_count": 18,
     "metadata": {},
     "output_type": "execute_result"
    }
   ],
   "source": [
    "red_y.head()"
   ]
  },
  {
   "cell_type": "code",
   "execution_count": 187,
   "metadata": {
    "scrolled": false
   },
   "outputs": [
    {
     "name": "stdout",
     "output_type": "stream",
     "text": [
      "Info for cluster #0 \n",
      "\n",
      "50.00 % of rating 5\n",
      "27.78 % of rating 6\n",
      "11.11 % of rating 7\n",
      "11.11 % of rating 4\n",
      "\n",
      "\n",
      "Info for cluster #1 \n",
      "\n",
      "40.00 % of rating 6\n",
      "37.14 % of rating 5\n",
      "14.29 % of rating 7\n",
      "5.71 % of rating 4\n",
      "2.86 % of rating 8\n",
      "\n",
      "\n",
      "Info for cluster #2 \n",
      "\n",
      "55.56 % of rating 5\n",
      "38.89 % of rating 6\n",
      "5.56 % of rating 7\n",
      "\n",
      "\n",
      "Info for cluster #3 \n",
      "\n",
      "52.63 % of rating 6\n",
      "26.32 % of rating 5\n",
      "21.05 % of rating 7\n",
      "\n",
      "\n",
      "Info for cluster #4 \n",
      "\n",
      "47.37 % of rating 6\n",
      "42.11 % of rating 5\n",
      "5.26 % of rating 8\n",
      "5.26 % of rating 7\n",
      "\n",
      "\n",
      "Info for cluster #5 \n",
      "\n",
      "57.69 % of rating 5\n",
      "34.62 % of rating 6\n",
      "3.85 % of rating 8\n",
      "3.85 % of rating 7\n",
      "\n",
      "\n",
      "Info for cluster #6 \n",
      "\n",
      "100.00 % of rating 5\n",
      "\n",
      "\n",
      "Info for cluster #7 \n",
      "\n",
      "60.00 % of rating 6\n",
      "20.00 % of rating 7\n",
      "20.00 % of rating 5\n",
      "\n",
      "\n",
      "Info for cluster #8 \n",
      "\n",
      "53.33 % of rating 5\n",
      "30.00 % of rating 6\n",
      "16.67 % of rating 7\n",
      "\n",
      "\n",
      "Info for cluster #9 \n",
      "\n",
      "85.71 % of rating 5\n",
      "14.29 % of rating 6\n",
      "\n",
      "\n",
      "Info for cluster #10 \n",
      "\n",
      "61.11 % of rating 6\n",
      "22.22 % of rating 5\n",
      "16.67 % of rating 7\n",
      "\n",
      "\n",
      "Info for cluster #11 \n",
      "\n",
      "70.00 % of rating 5\n",
      "20.00 % of rating 6\n",
      "10.00 % of rating 4\n",
      "\n",
      "\n"
     ]
    }
   ],
   "source": [
    "from collections import Counter\n",
    "from sklearn.cluster import KMeans\n",
    "from sklearn.model_selection import train_test_split\n",
    "\n",
    "X_train, X_test, y_train, y_test = train_test_split(red_X, red_y, test_size=0.2, random_state=0)\n",
    "\n",
    "kmeans = KMeans(n_clusters=12)\n",
    "kmeans.fit(X_train)\n",
    "predicted = kmeans.predict(X_test)\n",
    "\n",
    "External_indices_validation(predicted, y_test, 12, info_for_clusters=True)\n"
   ]
  },
  {
   "cell_type": "code",
   "execution_count": 182,
   "metadata": {
    "scrolled": true
   },
   "outputs": [
    {
     "data": {
      "text/plain": [
       "array([1, 1, 1, 1, 1, 0, 0, 1, 1, 1, 0, 0, 1, 1, 1, 1, 0, 0, 0, 1, 1, 0,\n",
       "       1, 1, 1, 1, 1, 1, 1, 1, 1, 0, 0, 1, 1, 1, 1, 0, 1, 1, 0, 1, 1, 1,\n",
       "       1, 1, 1, 1, 1, 0, 1, 1, 1, 1, 0, 1, 0, 0, 0, 1, 1, 1, 1, 1, 0, 0,\n",
       "       1, 1, 0, 1, 1, 1, 1, 1, 0, 1, 1, 0, 1, 1, 1, 1, 0, 1, 1, 1, 1, 1,\n",
       "       0, 1, 1, 1, 1, 1, 1, 1, 0, 1, 0, 1, 0, 1, 1, 1, 1, 1, 1, 1, 1, 0,\n",
       "       1, 0, 0, 1, 0, 1, 0, 0, 1, 1, 0, 1, 0, 1, 1, 0, 0, 1, 0, 1, 1, 0,\n",
       "       1, 1, 1, 1, 1, 1, 0, 0, 1, 1, 1, 1, 1, 0, 1, 1, 1, 1, 1, 1, 1, 1,\n",
       "       1, 0, 1, 0, 1, 0, 0, 1, 0, 0, 1, 1, 1, 1, 0, 0, 0, 1, 1, 0, 0, 1,\n",
       "       0, 1, 1, 1, 1, 1, 0, 1, 1, 1, 1, 1, 1, 0, 0, 0, 1, 0, 0, 0, 0, 1,\n",
       "       0, 1, 0, 1, 1, 1, 1, 1, 0, 1, 0, 0, 1, 1, 1, 1, 1, 1, 0, 1, 1, 1,\n",
       "       0, 1, 1, 1, 1, 0, 1, 1, 1, 1, 1, 0, 0, 0, 1, 1, 0, 1, 1],\n",
       "      dtype=int32)"
      ]
     },
     "execution_count": 182,
     "metadata": {},
     "output_type": "execute_result"
    }
   ],
   "source": [
    "predicted"
   ]
  },
  {
   "cell_type": "code",
   "execution_count": 183,
   "metadata": {},
   "outputs": [
    {
     "data": {
      "text/plain": [
       "array([5, 5, 6, 5, 6, 5, 6, 5, 5, 6, 5, 7, 5, 6, 5, 7, 6, 6, 6, 6, 7, 5,\n",
       "       6, 6, 5, 6, 7, 5, 6, 6, 6, 6, 5, 6, 6, 7, 6, 5, 5, 5, 5, 6, 6, 5,\n",
       "       6, 6, 5, 4, 6, 5, 5, 7, 6, 5, 5, 5, 7, 5, 7, 7, 6, 5, 5, 7, 5, 6,\n",
       "       5, 5, 5, 6, 6, 8, 7, 6, 5, 5, 6, 8, 6, 6, 5, 5, 5, 7, 6, 7, 5, 5,\n",
       "       6, 6, 5, 5, 6, 5, 7, 5, 5, 5, 5, 5, 5, 5, 7, 5, 6, 6, 6, 5, 5, 4,\n",
       "       7, 6, 5, 6, 7, 5, 6, 5, 6, 5, 7, 6, 5, 6, 5, 6, 6, 7, 6, 7, 7, 6,\n",
       "       5, 5, 7, 6, 6, 6, 5, 5, 5, 6, 6, 6, 5, 5, 5, 6, 6, 5, 6, 5, 5, 6,\n",
       "       5, 6, 6, 5, 6, 5, 4, 4, 5, 5, 6, 6, 5, 6, 5, 5, 6, 8, 5, 6, 5, 6,\n",
       "       5, 5, 6, 6, 6, 6, 5, 5, 5, 6, 5, 6, 6, 5, 5, 5, 6, 6, 5, 6, 5, 7,\n",
       "       5, 5, 6, 4, 6, 6, 7, 5, 5, 7, 6, 6, 7, 5, 6, 6, 7, 5, 5, 5, 5, 7,\n",
       "       5, 6, 7, 6, 5, 6, 6, 6, 5, 5, 6, 6, 5, 6, 5, 5, 5, 6, 6])"
      ]
     },
     "execution_count": 183,
     "metadata": {},
     "output_type": "execute_result"
    }
   ],
   "source": [
    "y_test.values"
   ]
  },
  {
   "cell_type": "code",
   "execution_count": null,
   "metadata": {
    "collapsed": true
   },
   "outputs": [],
   "source": []
  }
 ],
 "metadata": {
  "kernelspec": {
   "display_name": "Python 3",
   "language": "python",
   "name": "python3"
  },
  "language_info": {
   "codemirror_mode": {
    "name": "ipython",
    "version": 3
   },
   "file_extension": ".py",
   "mimetype": "text/x-python",
   "name": "python",
   "nbconvert_exporter": "python",
   "pygments_lexer": "ipython3",
   "version": "3.6.3"
  }
 },
 "nbformat": 4,
 "nbformat_minor": 2
}
