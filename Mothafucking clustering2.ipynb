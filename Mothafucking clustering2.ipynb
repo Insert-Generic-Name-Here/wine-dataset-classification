{
 "cells": [
  {
   "cell_type": "code",
   "execution_count": 42,
   "metadata": {
    "collapsed": true
   },
   "outputs": [],
   "source": [
    "import pandas as pd\n",
    "import numpy as np"
   ]
  },
  {
   "cell_type": "code",
   "execution_count": 46,
   "metadata": {
    "collapsed": true
   },
   "outputs": [],
   "source": [
    "def External_indices_validation(predicted, labels, info_for_clusters=False):\n",
    "    '''Clustering validation for unsupervised learning using external indices.\n",
    "    Input:\n",
    "        info_for_clustering: \n",
    "            True: Prints percentages of clusters containing each label\n",
    "            False: Prints percentages of labels in each cluster\n",
    "        \n",
    "    Output:\n",
    "       '''\n",
    "    \n",
    "    #####\n",
    "    if not info_for_clusters:\n",
    "        lst = []\n",
    "        tmp = []\n",
    "        for rating in sorted(labels.unique()):\n",
    "            for ind, val in enumerate(labels):\n",
    "                if val == rating:\n",
    "                    tmp.append(predicted[ind])\n",
    "\n",
    "            lst.append((rating, tmp))\n",
    "            tmp = []\n",
    "\n",
    "\n",
    "        #print statistics for each cluster\n",
    "        for ind, sublist in lst:\n",
    "            c = Counter(sublist)\n",
    "            tmp = [(i, c[i] / len(sublist) * 100.0) for i, count in c.most_common()]\n",
    "            print (f'Info for rating={ind} \\n')\n",
    "            for el in tmp:\n",
    "                print(f'{el[1]:.2f} % in cluster {el[0]}')\n",
    "            print ('\\n')\n",
    "    else:\n",
    "        # create a list that on index i includes all the values of the labels under cluster #i\n",
    "        lst = [[] for _ in range(len(np.unique(predicted)))]\n",
    "        for ind, val in enumerate(predicted):\n",
    "            lst[val].append(labels.values[ind])\n",
    "\n",
    "        #print statistics for each cluster\n",
    "        for ind,sublist in enumerate(lst):\n",
    "            c = Counter(sublist)\n",
    "            tmp = [(i, c[i] / len(sublist) * 100.0) for i, count in c.most_common()]\n",
    "            print (f'Info for cluster #{ind} \\n')\n",
    "            for el in tmp:\n",
    "                print(f'{el[1]:.2f} % of rating {el[0]}')\n",
    "            print ('\\n')"
   ]
  },
  {
   "cell_type": "code",
   "execution_count": 3,
   "metadata": {
    "collapsed": true
   },
   "outputs": [],
   "source": [
    "red = pd.read_csv('./csv_cache/red_clean.csv', delimiter='\\t',index_col=0)"
   ]
  },
  {
   "cell_type": "code",
   "execution_count": 4,
   "metadata": {},
   "outputs": [
    {
     "data": {
      "text/html": [
       "<div>\n",
       "<style>\n",
       "    .dataframe thead tr:only-child th {\n",
       "        text-align: right;\n",
       "    }\n",
       "\n",
       "    .dataframe thead th {\n",
       "        text-align: left;\n",
       "    }\n",
       "\n",
       "    .dataframe tbody tr th {\n",
       "        vertical-align: top;\n",
       "    }\n",
       "</style>\n",
       "<table border=\"1\" class=\"dataframe\">\n",
       "  <thead>\n",
       "    <tr style=\"text-align: right;\">\n",
       "      <th></th>\n",
       "      <th>fixed_acidity</th>\n",
       "      <th>volatile_acidity</th>\n",
       "      <th>citric_acid</th>\n",
       "      <th>residual_sugar</th>\n",
       "      <th>chlorides</th>\n",
       "      <th>free_sulfur_dioxide</th>\n",
       "      <th>total_sulfur_dioxide</th>\n",
       "      <th>density</th>\n",
       "      <th>ph</th>\n",
       "      <th>sulphates</th>\n",
       "      <th>alcohol</th>\n",
       "      <th>quality</th>\n",
       "    </tr>\n",
       "  </thead>\n",
       "  <tbody>\n",
       "    <tr>\n",
       "      <th>0</th>\n",
       "      <td>7.4</td>\n",
       "      <td>0.70</td>\n",
       "      <td>0.00</td>\n",
       "      <td>1.9</td>\n",
       "      <td>0.076</td>\n",
       "      <td>11.0</td>\n",
       "      <td>34.0</td>\n",
       "      <td>0.9978</td>\n",
       "      <td>3.51</td>\n",
       "      <td>0.56</td>\n",
       "      <td>9.4</td>\n",
       "      <td>5</td>\n",
       "    </tr>\n",
       "    <tr>\n",
       "      <th>1</th>\n",
       "      <td>7.8</td>\n",
       "      <td>0.88</td>\n",
       "      <td>0.00</td>\n",
       "      <td>2.6</td>\n",
       "      <td>0.098</td>\n",
       "      <td>25.0</td>\n",
       "      <td>67.0</td>\n",
       "      <td>0.9968</td>\n",
       "      <td>3.20</td>\n",
       "      <td>0.68</td>\n",
       "      <td>9.8</td>\n",
       "      <td>5</td>\n",
       "    </tr>\n",
       "    <tr>\n",
       "      <th>2</th>\n",
       "      <td>7.8</td>\n",
       "      <td>0.76</td>\n",
       "      <td>0.04</td>\n",
       "      <td>2.3</td>\n",
       "      <td>0.092</td>\n",
       "      <td>15.0</td>\n",
       "      <td>54.0</td>\n",
       "      <td>0.9970</td>\n",
       "      <td>3.26</td>\n",
       "      <td>0.65</td>\n",
       "      <td>9.8</td>\n",
       "      <td>5</td>\n",
       "    </tr>\n",
       "  </tbody>\n",
       "</table>\n",
       "</div>"
      ],
      "text/plain": [
       "   fixed_acidity  volatile_acidity  citric_acid  residual_sugar  chlorides  \\\n",
       "0            7.4              0.70         0.00             1.9      0.076   \n",
       "1            7.8              0.88         0.00             2.6      0.098   \n",
       "2            7.8              0.76         0.04             2.3      0.092   \n",
       "\n",
       "   free_sulfur_dioxide  total_sulfur_dioxide  density    ph  sulphates  \\\n",
       "0                 11.0                  34.0   0.9978  3.51       0.56   \n",
       "1                 25.0                  67.0   0.9968  3.20       0.68   \n",
       "2                 15.0                  54.0   0.9970  3.26       0.65   \n",
       "\n",
       "   alcohol  quality  \n",
       "0      9.4        5  \n",
       "1      9.8        5  \n",
       "2      9.8        5  "
      ]
     },
     "execution_count": 4,
     "metadata": {},
     "output_type": "execute_result"
    }
   ],
   "source": [
    "red.head(3)"
   ]
  },
  {
   "cell_type": "code",
   "execution_count": 5,
   "metadata": {
    "collapsed": true
   },
   "outputs": [],
   "source": [
    "red_X = red.drop(labels='quality', axis=1)\n",
    "red_y = red['quality']"
   ]
  },
  {
   "cell_type": "code",
   "execution_count": 6,
   "metadata": {
    "scrolled": false
   },
   "outputs": [
    {
     "data": {
      "text/plain": [
       "0    5\n",
       "1    5\n",
       "2    5\n",
       "3    6\n",
       "4    5\n",
       "Name: quality, dtype: int64"
      ]
     },
     "execution_count": 6,
     "metadata": {},
     "output_type": "execute_result"
    }
   ],
   "source": [
    "red_y.head()"
   ]
  },
  {
   "cell_type": "code",
   "execution_count": 52,
   "metadata": {
    "collapsed": true
   },
   "outputs": [],
   "source": [
    "from collections import Counter\n",
    "from sklearn.cluster import KMeans,MeanShift,DBSCAN,AgglomerativeClustering\n",
    "from sklearn.model_selection import train_test_split\n",
    "\n",
    "X_train, X_test, y_train, y_test = train_test_split(red_X, red_y, test_size=0.4, random_state=1)"
   ]
  },
  {
   "cell_type": "code",
   "execution_count": 108,
   "metadata": {
    "scrolled": false
   },
   "outputs": [
    {
     "name": "stdout",
     "output_type": "stream",
     "text": [
      "Info for rating=3 \n",
      "\n",
      "100.00 % in cluster 0\n",
      "\n",
      "\n",
      "Info for rating=4 \n",
      "\n",
      "30.77 % in cluster 18\n",
      "30.77 % in cluster 6\n",
      "7.69 % in cluster 22\n",
      "7.69 % in cluster 27\n",
      "7.69 % in cluster 25\n",
      "7.69 % in cluster 7\n",
      "7.69 % in cluster 13\n",
      "\n",
      "\n",
      "Info for rating=5 \n",
      "\n",
      "7.84 % in cluster 18\n",
      "7.35 % in cluster 23\n",
      "7.35 % in cluster 1\n",
      "6.37 % in cluster 13\n",
      "5.88 % in cluster 12\n",
      "5.39 % in cluster 9\n",
      "4.90 % in cluster 0\n",
      "4.41 % in cluster 19\n",
      "4.41 % in cluster 20\n",
      "4.41 % in cluster 25\n",
      "3.92 % in cluster 29\n",
      "3.43 % in cluster 10\n",
      "3.43 % in cluster 4\n",
      "2.94 % in cluster 7\n",
      "2.94 % in cluster 8\n",
      "2.45 % in cluster 28\n",
      "2.45 % in cluster 21\n",
      "2.45 % in cluster 14\n",
      "2.45 % in cluster 26\n",
      "1.96 % in cluster 6\n",
      "1.96 % in cluster 22\n",
      "1.96 % in cluster 27\n",
      "1.96 % in cluster 5\n",
      "1.47 % in cluster 17\n",
      "1.47 % in cluster 15\n",
      "1.47 % in cluster 24\n",
      "1.47 % in cluster 2\n",
      "0.98 % in cluster 11\n",
      "0.49 % in cluster 3\n",
      "\n",
      "\n",
      "Info for rating=6 \n",
      "\n",
      "9.05 % in cluster 10\n",
      "7.14 % in cluster 18\n",
      "6.67 % in cluster 28\n",
      "6.67 % in cluster 1\n",
      "6.67 % in cluster 7\n",
      "6.19 % in cluster 29\n",
      "6.19 % in cluster 6\n",
      "5.71 % in cluster 23\n",
      "5.24 % in cluster 0\n",
      "4.76 % in cluster 12\n",
      "4.76 % in cluster 15\n",
      "4.29 % in cluster 24\n",
      "4.29 % in cluster 25\n",
      "2.86 % in cluster 13\n",
      "2.86 % in cluster 9\n",
      "2.86 % in cluster 21\n",
      "2.38 % in cluster 26\n",
      "2.38 % in cluster 20\n",
      "1.43 % in cluster 11\n",
      "1.43 % in cluster 4\n",
      "1.43 % in cluster 17\n",
      "0.95 % in cluster 14\n",
      "0.95 % in cluster 3\n",
      "0.95 % in cluster 27\n",
      "0.95 % in cluster 22\n",
      "0.48 % in cluster 16\n",
      "0.48 % in cluster 8\n",
      "\n",
      "\n",
      "Info for rating=7 \n",
      "\n",
      "16.67 % in cluster 10\n",
      "14.58 % in cluster 6\n",
      "10.42 % in cluster 29\n",
      "8.33 % in cluster 7\n",
      "6.25 % in cluster 28\n",
      "6.25 % in cluster 20\n",
      "6.25 % in cluster 15\n",
      "6.25 % in cluster 12\n",
      "6.25 % in cluster 18\n",
      "6.25 % in cluster 1\n",
      "4.17 % in cluster 0\n",
      "2.08 % in cluster 14\n",
      "2.08 % in cluster 11\n",
      "2.08 % in cluster 3\n",
      "2.08 % in cluster 16\n",
      "\n",
      "\n",
      "Info for rating=8 \n",
      "\n",
      "50.00 % in cluster 18\n",
      "50.00 % in cluster 29\n",
      "\n",
      "\n"
     ]
    }
   ],
   "source": [
    "kmeans = KMeans(n_clusters=30)\n",
    "kmeans.fit(X_train)\n",
    "predicted = kmeans.predict(X_test)\n",
    "\n",
    "External_indices_validation(predicted, y_test, info_for_clusters=False)\n"
   ]
  },
  {
   "cell_type": "code",
   "execution_count": 110,
   "metadata": {},
   "outputs": [
    {
     "name": "stdout",
     "output_type": "stream",
     "text": [
      "cluster#2\n",
      "\n",
      "fixed_acidity            8.412121\n",
      "volatile_acidity         0.530530\n",
      "citric_acid              0.271061\n",
      "residual_sugar           2.137121\n",
      "chlorides                0.078152\n",
      "free_sulfur_dioxide      5.621212\n",
      "total_sulfur_dioxide    13.636364\n",
      "density                  0.996502\n",
      "ph                       3.323030\n",
      "sulphates                0.616515\n",
      "alcohol                 10.653788\n",
      "Name: 18, dtype: float64\n",
      "\n",
      "cluster#4\n",
      "\n",
      "fixed_acidity            8.235294\n",
      "volatile_acidity         0.550441\n",
      "citric_acid              0.232059\n",
      "residual_sugar           2.226471\n",
      "chlorides                0.082471\n",
      "free_sulfur_dioxide     10.411765\n",
      "total_sulfur_dioxide    38.500000\n",
      "density                  0.997225\n",
      "ph                       3.344118\n",
      "sulphates                0.620294\n",
      "alcohol                  9.938235\n",
      "Name: 23, dtype: float64\n",
      "\n"
     ]
    }
   ],
   "source": [
    "print(f'cluster#2\\n\\n{pd.DataFrame(kmeans.cluster_centers_,columns=red_X.columns).iloc[18]}\\n')\n",
    "print(f'cluster#4\\n\\n{pd.DataFrame(kmeans.cluster_centers_,columns=red_X.columns).iloc[23]}\\n')"
   ]
  },
  {
   "cell_type": "code",
   "execution_count": 84,
   "metadata": {},
   "outputs": [
    {
     "data": {
      "text/plain": [
       "fixed_acidity            8.696552\n",
       "volatile_acidity         0.511552\n",
       "citric_acid              0.290000\n",
       "residual_sugar           2.217241\n",
       "chlorides                0.079241\n",
       "free_sulfur_dioxide      6.517241\n",
       "total_sulfur_dioxide    18.189655\n",
       "density                  0.996755\n",
       "ph                       3.278966\n",
       "sulphates                0.640517\n",
       "alcohol                 10.330172\n",
       "Name: 4, dtype: float64"
      ]
     },
     "execution_count": 84,
     "metadata": {},
     "output_type": "execute_result"
    }
   ],
   "source": [
    "pd.DataFrame(kmeans.cluster_centers_,columns=red_X.columns).iloc[4]"
   ]
  },
  {
   "cell_type": "code",
   "execution_count": 76,
   "metadata": {},
   "outputs": [
    {
     "data": {
      "text/plain": [
       "(11,)"
      ]
     },
     "execution_count": 76,
     "metadata": {},
     "output_type": "execute_result"
    }
   ],
   "source": [
    "kmeans.cluster_centers_[2].shape"
   ]
  },
  {
   "cell_type": "code",
   "execution_count": 92,
   "metadata": {},
   "outputs": [
    {
     "name": "stdout",
     "output_type": "stream",
     "text": [
      "Info for cluster #0 \n",
      "\n",
      "47.70 % of rating 6\n",
      "36.49 % of rating 5\n",
      "12.07 % of rating 7\n",
      "2.87 % of rating 4\n",
      "0.57 % of rating 8\n",
      "0.29 % of rating 3\n",
      "\n",
      "\n",
      "Info for cluster #1 \n",
      "\n",
      "59.23 % of rating 5\n",
      "33.85 % of rating 6\n",
      "4.62 % of rating 7\n",
      "2.31 % of rating 4\n",
      "\n",
      "\n"
     ]
    }
   ],
   "source": [
    "MeanS = MeanShift(n_jobs=-1)\n",
    "MeanS.fit(X_train)\n",
    "predictedMs = MeanS.predict(X_test)\n",
    "External_indices_validation(predictedMs, y_test, info_for_clusters=True)"
   ]
  },
  {
   "cell_type": "code",
   "execution_count": null,
   "metadata": {
    "collapsed": true
   },
   "outputs": [],
   "source": [
    "print(f'cluster#2\\n\\n{pd.DataFrame(MeanS.cluster_centers_,columns=red_X.columns).iloc[2]}\\n')\n",
    "print(f'cluster#4\\n\\n{pd.DataFrame(MeanS.cluster_centers_,columns=red_X.columns).iloc[4]}\\n')"
   ]
  },
  {
   "cell_type": "code",
   "execution_count": 55,
   "metadata": {},
   "outputs": [
    {
     "name": "stdout",
     "output_type": "stream",
     "text": [
      "Info for cluster #0 \n",
      "\n",
      "43.93 % of rating 6\n",
      "42.68 % of rating 5\n",
      "10.04 % of rating 7\n",
      "2.72 % of rating 4\n",
      "0.42 % of rating 8\n",
      "0.21 % of rating 3\n",
      "\n",
      "\n"
     ]
    }
   ],
   "source": [
    "Dbs = DBSCAN(eps=0.5, min_samples=5, n_jobs=-1)\n",
    "predictedDbs = Dbs.fit_predict(X_test)\n",
    "\n",
    "External_indices_validation(predictedDbs, y_test, info_for_clusters=True)"
   ]
  },
  {
   "cell_type": "code",
   "execution_count": 61,
   "metadata": {
    "scrolled": true
   },
   "outputs": [
    {
     "name": "stdout",
     "output_type": "stream",
     "text": [
      "Info for rating=3 \n",
      "\n",
      "100.00 % in cluster 16\n",
      "\n",
      "\n",
      "Info for rating=4 \n",
      "\n",
      "46.15 % in cluster 14\n",
      "15.38 % in cluster 13\n",
      "7.69 % in cluster 29\n",
      "7.69 % in cluster 17\n",
      "7.69 % in cluster 3\n",
      "7.69 % in cluster 23\n",
      "7.69 % in cluster 9\n",
      "\n",
      "\n",
      "Info for rating=5 \n",
      "\n",
      "8.33 % in cluster 13\n",
      "8.33 % in cluster 2\n",
      "6.86 % in cluster 7\n",
      "6.37 % in cluster 3\n",
      "5.88 % in cluster 0\n",
      "4.41 % in cluster 6\n",
      "4.41 % in cluster 12\n",
      "3.92 % in cluster 14\n",
      "3.92 % in cluster 27\n",
      "3.43 % in cluster 5\n",
      "3.43 % in cluster 21\n",
      "3.43 % in cluster 1\n",
      "3.43 % in cluster 28\n",
      "3.43 % in cluster 9\n",
      "2.94 % in cluster 15\n",
      "2.94 % in cluster 22\n",
      "2.94 % in cluster 16\n",
      "2.45 % in cluster 10\n",
      "2.45 % in cluster 4\n",
      "2.45 % in cluster 17\n",
      "1.96 % in cluster 23\n",
      "1.96 % in cluster 8\n",
      "1.96 % in cluster 29\n",
      "1.96 % in cluster 24\n",
      "1.47 % in cluster 11\n",
      "1.47 % in cluster 26\n",
      "1.47 % in cluster 20\n",
      "0.98 % in cluster 19\n",
      "0.98 % in cluster 18\n",
      "\n",
      "\n",
      "Info for rating=6 \n",
      "\n",
      "12.38 % in cluster 13\n",
      "10.95 % in cluster 5\n",
      "8.10 % in cluster 7\n",
      "7.62 % in cluster 3\n",
      "6.67 % in cluster 14\n",
      "5.71 % in cluster 0\n",
      "5.71 % in cluster 16\n",
      "5.24 % in cluster 2\n",
      "3.81 % in cluster 28\n",
      "3.81 % in cluster 10\n",
      "2.86 % in cluster 21\n",
      "2.86 % in cluster 12\n",
      "2.86 % in cluster 15\n",
      "2.86 % in cluster 23\n",
      "2.38 % in cluster 8\n",
      "2.38 % in cluster 25\n",
      "2.38 % in cluster 4\n",
      "1.90 % in cluster 27\n",
      "1.43 % in cluster 20\n",
      "1.43 % in cluster 19\n",
      "1.43 % in cluster 6\n",
      "1.43 % in cluster 26\n",
      "0.95 % in cluster 17\n",
      "0.95 % in cluster 29\n",
      "0.95 % in cluster 11\n",
      "0.48 % in cluster 9\n",
      "0.48 % in cluster 1\n",
      "\n",
      "\n",
      "Info for rating=7 \n",
      "\n",
      "20.83 % in cluster 5\n",
      "18.75 % in cluster 14\n",
      "8.33 % in cluster 28\n",
      "6.25 % in cluster 3\n",
      "6.25 % in cluster 10\n",
      "6.25 % in cluster 13\n",
      "4.17 % in cluster 21\n",
      "4.17 % in cluster 20\n",
      "4.17 % in cluster 2\n",
      "4.17 % in cluster 7\n",
      "4.17 % in cluster 23\n",
      "2.08 % in cluster 6\n",
      "2.08 % in cluster 19\n",
      "2.08 % in cluster 27\n",
      "2.08 % in cluster 0\n",
      "2.08 % in cluster 16\n",
      "2.08 % in cluster 18\n",
      "\n",
      "\n",
      "Info for rating=8 \n",
      "\n",
      "100.00 % in cluster 13\n",
      "\n",
      "\n"
     ]
    }
   ],
   "source": [
    "Agg = AgglomerativeClustering(n_clusters=30)\n",
    "predictedAgg = Agg.fit_predict(X_test)\n",
    "\n",
    "External_indices_validation(predictedAgg, y_test, info_for_clusters=False)"
   ]
  },
  {
   "cell_type": "code",
   "execution_count": 91,
   "metadata": {},
   "outputs": [
    {
     "ename": "AttributeError",
     "evalue": "'AgglomerativeClustering' object has no attribute 'cluster_centers_'",
     "output_type": "error",
     "traceback": [
      "\u001b[0;31m---------------------------------------------------------------------------\u001b[0m",
      "\u001b[0;31mAttributeError\u001b[0m                            Traceback (most recent call last)",
      "\u001b[0;32m<ipython-input-91-0f74297e8e72>\u001b[0m in \u001b[0;36m<module>\u001b[0;34m()\u001b[0m\n\u001b[0;32m----> 1\u001b[0;31m \u001b[0mprint\u001b[0m\u001b[0;34m(\u001b[0m\u001b[0;34mf'cluster#2\\n\\n{pd.DataFrame(Agg.cluster_centers_,columns=red_X.columns).iloc[2]}\\n'\u001b[0m\u001b[0;34m)\u001b[0m\u001b[0;34m\u001b[0m\u001b[0m\n\u001b[0m\u001b[1;32m      2\u001b[0m \u001b[0mprint\u001b[0m\u001b[0;34m(\u001b[0m\u001b[0;34mf'cluster#4\\n\\n{pd.DataFrame(Agg.cluster_centers_,columns=red_X.columns).iloc[4]}\\n'\u001b[0m\u001b[0;34m)\u001b[0m\u001b[0;34m\u001b[0m\u001b[0m\n",
      "\u001b[0;31mAttributeError\u001b[0m: 'AgglomerativeClustering' object has no attribute 'cluster_centers_'"
     ]
    }
   ],
   "source": [
    "print(f'cluster#2\\n\\n{pd.DataFrame(MeanS.cluster_centers_,columns=red_X.columns).iloc[2]}\\n')\n",
    "print(f'cluster#4\\n\\n{pd.DataFrame(MeanS.cluster_centers_,columns=red_X.columns).iloc[4]}\\n')"
   ]
  },
  {
   "cell_type": "code",
   "execution_count": 96,
   "metadata": {},
   "outputs": [
    {
     "data": {
      "text/plain": [
       "array([], dtype=int64)"
      ]
     },
     "execution_count": 96,
     "metadata": {},
     "output_type": "execute_result"
    }
   ],
   "source": [
    "Dbs.core_sample_indices_"
   ]
  },
  {
   "cell_type": "code",
   "execution_count": 98,
   "metadata": {},
   "outputs": [],
   "source": [
    "from scipy.cluster.hierarchy import dendrogram, linkage\n",
    "\n",
    "Z=linkage(X_test)\n"
   ]
  },
  {
   "cell_type": "code",
   "execution_count": 104,
   "metadata": {},
   "outputs": [
    {
     "data": {
      "image/png": "[encoded data removed]",
      "text/plain": [
       "<matplotlib.figure.Figure at 0x7f7369ce2ac8>"
      ]
     },
     "metadata": {},
     "output_type": "display_data"
    }
   ],
   "source": [
    "from matplotlib import pyplot as plt\n",
    "plt.figure(figsize=(25, 20))\n",
    "plt.title('Hierarchical Clustering Dendrogram')\n",
    "plt.xlabel('sample index')\n",
    "plt.ylabel('distance')\n",
    "dendrogram(\n",
    "    Z,\n",
    "    leaf_rotation=90.,  # rotates the x axis labels\n",
    "    leaf_font_size=13.,  # font size for the x axis labels\n",
    ")\n",
    "plt.show()"
   ]
  },
  {
   "cell_type": "code",
   "execution_count": null,
   "metadata": {
    "collapsed": true
   },
   "outputs": [],
   "source": []
  }
 ],
 "metadata": {
  "kernelspec": {
   "display_name": "Python 3",
   "language": "python",
   "name": "python3"
  },
  "language_info": {
   "codemirror_mode": {
    "name": "ipython",
    "version": 3
   },
   "file_extension": ".py",
   "mimetype": "text/x-python",
   "name": "python",
   "nbconvert_exporter": "python",
   "pygments_lexer": "ipython3",
   "version": "3.6.3"
  }
 },
 "nbformat": 4,
 "nbformat_minor": 2
}
